{
  "nbformat": 4,
  "nbformat_minor": 0,
  "metadata": {
    "colab": {
      "name": "Taylor/Error and Levy Function.ipynb",
      "provenance": [],
      "collapsed_sections": [
        "6JWCUi9ubi2H"
      ],
      "authorship_tag": "ABX9TyOlK3YRdodDYO24S4iB60Hl",
      "include_colab_link": true
    },
    "kernelspec": {
      "name": "python3",
      "display_name": "Python 3"
    },
    "language_info": {
      "name": "python"
    }
  },
  "cells": [
    {
      "cell_type": "markdown",
      "metadata": {
        "id": "view-in-github",
        "colab_type": "text"
      },
      "source": [
        "<a href=\"https://colab.research.google.com/github/SJanna/OptimizationProblems/blob/main/Taylor_Error_and_Levy_Function.ipynb\" target=\"_parent\"><img src=\"https://colab.research.google.com/assets/colab-badge.svg\" alt=\"Open In Colab\"/></a>"
      ]
    },
    {
      "cell_type": "markdown",
      "source": [
        "#Actividad número 2"
      ],
      "metadata": {
        "id": "tRvOAAFqXk4C"
      }
    },
    {
      "cell_type": "markdown",
      "source": [
        "#Punto 1"
      ],
      "metadata": {
        "id": "5ghegqXibfml"
      }
    },
    {
      "cell_type": "code",
      "execution_count": null,
      "metadata": {
        "id": "WlMgla85Xjnt"
      },
      "outputs": [],
      "source": [
        "import sympy as sp\n",
        "x = sp.Symbol('x')\n",
        "f= 2*x+sp.cos(x)+1\n",
        "a=0 #Punto de expanción\n",
        "n1=4 #Grado\n",
        "n2=8 #Grado\n",
        "n3=12 #Grado\n",
        "n4=16 #Grado\n",
        "def error_absoluto (funcion_real, funcion_aprox, nprueba):\n",
        "    vreal=funcion_real.subs(x,nprueba)\n",
        "    vaprox=funcion_aprox.subs(x,nprueba)\n",
        "    return float(abs(vreal-vaprox))\n",
        "\n",
        "def taylor(f,a,n):\n",
        "    fx=0\n",
        "    for i in range(0,n+1):\n",
        "        fna=sp.diff(f,x,i).subs(x,a)\n",
        "        fx += (fna*(x-a)**i)/sp.factorial(i)\n",
        "    return fx"
      ]
    },
    {
      "cell_type": "code",
      "source": [
        "# Polinomio 1\n",
        "pol1=taylor(f,a,n1)\n",
        "pol2=taylor(f,a,n2)\n",
        "pol3=taylor(f,a,n3)\n",
        "pol4=taylor(f,a,n4)\n",
        "print(f'Polinomio 1: {pol1}')\n",
        "print(f'Polinomio 2: {pol2}')\n",
        "print(f'Polinomio 3: {pol3}')\n",
        "print(f'Polinomio 4: {pol4}')"
      ],
      "metadata": {
        "colab": {
          "base_uri": "https://localhost:8080/"
        },
        "id": "PGEHz3WJZ0gY",
        "outputId": "9e4a299a-58ab-4b85-fe56-ca5bae794bd6"
      },
      "execution_count": null,
      "outputs": [
        {
          "output_type": "stream",
          "name": "stdout",
          "text": [
            "Polinomio 1: x**4/24 - x**2/2 + 2*x + 2\n",
            "Polinomio 2: x**8/40320 - x**6/720 + x**4/24 - x**2/2 + 2*x + 2\n",
            "Polinomio 3: x**12/479001600 - x**10/3628800 + x**8/40320 - x**6/720 + x**4/24 - x**2/2 + 2*x + 2\n",
            "Polinomio 4: x**16/20922789888000 - x**14/87178291200 + x**12/479001600 - x**10/3628800 + x**8/40320 - x**6/720 + x**4/24 - x**2/2 + 2*x + 2\n"
          ]
        }
      ]
    },
    {
      "cell_type": "code",
      "source": [
        "p_evaluacion=5\n",
        "print(f'Error para el polinomio 1: {error_absoluto(f,pol1,p_evaluacion)}')\n",
        "print(f'Error para el polinomio 2: {error_absoluto(f,pol2,p_evaluacion)}')\n",
        "print(f'Error para el polinomio 3: {error_absoluto(f,pol3,p_evaluacion)}')\n",
        "print(f'Error para el polinomio 4: {error_absoluto(f,pol4,p_evaluacion)}')"
      ],
      "metadata": {
        "colab": {
          "base_uri": "https://localhost:8080/"
        },
        "id": "5_uYsLUzZ2B6",
        "outputId": "a8fb1fb7-d07c-4863-b8d1-eee96c5c1b3f"
      },
      "execution_count": null,
      "outputs": [
        {
          "output_type": "stream",
          "name": "stdout",
          "text": [
            "Error para el polinomio 1: 14.258004481203441\n",
            "Error para el polinomio 2: 2.244735631997091\n",
            "Error para el polinomio 3: 0.06327762642884258\n",
            "Error para el polinomio 4: 0.0005586550870891639\n"
          ]
        }
      ]
    },
    {
      "cell_type": "markdown",
      "source": [
        "\n",
        "**Conclusiones sobre el error** \\\\\n",
        "Por lo general el error es menor para un **n** mayor de la misma función, que es lo esperado ya que la aproximación es más cercana.\n",
        "Sin embargo para algunos $n$ (cercanos) el error dado por un $n_1 < n_2$ puede ser menor que el error que produce $n_2$. \\\\\n",
        "\n",
        "Otro valor importante a tener en cuenta es el punto de evaluación, a medida que este valor se aleja del valor del punto de expansión $a$, el error se hace más grande."
      ],
      "metadata": {
        "id": "Gt413_ySbU0o"
      }
    },
    {
      "cell_type": "markdown",
      "source": [
        "#Punto 2"
      ],
      "metadata": {
        "id": "6JWCUi9ubi2H"
      }
    },
    {
      "cell_type": "markdown",
      "source": [
        "Codigo estudiantil = 2000834**51**"
      ],
      "metadata": {
        "id": "Q5Mjr5WOb1jW"
      }
    },
    {
      "cell_type": "code",
      "source": [
        "import sympy as sp"
      ],
      "metadata": {
        "id": "r3MulnQybllX"
      },
      "execution_count": null,
      "outputs": []
    },
    {
      "cell_type": "code",
      "source": [
        "n = 2\n",
        "x = sp.Matrix([f'x{i}' for i in range(1,n+1)])\n",
        "f=0\n",
        "for i in range(0, n):\n",
        "  f+= sp.sin(3*x[i]*sp.pi)**2 + (x[i]-1)**2 * (1+sp.sin(3*sp.pi+x[i])**2) + (x[i]-1)**2 * (1+sp.sin(2*sp.pi*x[i]))\n",
        "\n",
        "  if i>0:\n",
        "    f-=x[i]*x[i-1]\n",
        "x"
      ],
      "metadata": {
        "colab": {
          "base_uri": "https://localhost:8080/",
          "height": 58
        },
        "id": "RuNPq8xifQ_D",
        "outputId": "6ab09055-ed63-47d2-a49b-2268039c7a71"
      },
      "execution_count": null,
      "outputs": [
        {
          "output_type": "execute_result",
          "data": {
            "text/plain": [
              "Matrix([\n",
              "[x1],\n",
              "[x2]])"
            ],
            "text/latex": "$\\displaystyle \\left[\\begin{matrix}x_{1}\\\\x_{2}\\end{matrix}\\right]$"
          },
          "metadata": {},
          "execution_count": 154
        }
      ]
    },
    {
      "cell_type": "code",
      "source": [
        "f"
      ],
      "metadata": {
        "colab": {
          "base_uri": "https://localhost:8080/",
          "height": 63
        },
        "id": "mLCmXWrKfvo9",
        "outputId": "8f573282-61b7-43dc-def0-051875e6b982"
      },
      "execution_count": null,
      "outputs": [
        {
          "output_type": "execute_result",
          "data": {
            "text/plain": [
              "-x1*x2 + (x1 - 1)**2*(sin(x1)**2 + 1) + (x1 - 1)**2*(sin(2*pi*x1) + 1) + (x2 - 1)**2*(sin(x2)**2 + 1) + (x2 - 1)**2*(sin(2*pi*x2) + 1) + sin(3*pi*x1)**2 + sin(3*pi*x2)**2"
            ],
            "text/latex": "$\\displaystyle - x_{1} x_{2} + \\left(x_{1} - 1\\right)^{2} \\left(\\sin^{2}{\\left(x_{1} \\right)} + 1\\right) + \\left(x_{1} - 1\\right)^{2} \\left(\\sin{\\left(2 \\pi x_{1} \\right)} + 1\\right) + \\left(x_{2} - 1\\right)^{2} \\left(\\sin^{2}{\\left(x_{2} \\right)} + 1\\right) + \\left(x_{2} - 1\\right)^{2} \\left(\\sin{\\left(2 \\pi x_{2} \\right)} + 1\\right) + \\sin^{2}{\\left(3 \\pi x_{1} \\right)} + \\sin^{2}{\\left(3 \\pi x_{2} \\right)}$"
          },
          "metadata": {},
          "execution_count": 140
        }
      ]
    },
    {
      "cell_type": "code",
      "source": [
        "#Jacobiano de f\n",
        "gf = sp.Matrix([f]).jacobian(x).T\n",
        "gf"
      ],
      "metadata": {
        "colab": {
          "base_uri": "https://localhost:8080/",
          "height": 82
        },
        "id": "XFrE1ea0gUrm",
        "outputId": "c6091cc2-b448-4440-aac1-547a9529a355"
      },
      "execution_count": null,
      "outputs": [
        {
          "output_type": "execute_result",
          "data": {
            "text/plain": [
              "Matrix([\n",
              "[-x2 + 2*(x1 - 1)**2*sin(x1)*cos(x1) + 2*pi*(x1 - 1)**2*cos(2*pi*x1) + (2*x1 - 2)*(sin(x1)**2 + 1) + (2*x1 - 2)*(sin(2*pi*x1) + 1) + 6*pi*sin(3*pi*x1)*cos(3*pi*x1)],\n",
              "[-x1 + 2*(x2 - 1)**2*sin(x2)*cos(x2) + 2*pi*(x2 - 1)**2*cos(2*pi*x2) + (2*x2 - 2)*(sin(x2)**2 + 1) + (2*x2 - 2)*(sin(2*pi*x2) + 1) + 6*pi*sin(3*pi*x2)*cos(3*pi*x2)]])"
            ],
            "text/latex": "$\\displaystyle \\left[\\begin{matrix}- x_{2} + 2 \\left(x_{1} - 1\\right)^{2} \\sin{\\left(x_{1} \\right)} \\cos{\\left(x_{1} \\right)} + 2 \\pi \\left(x_{1} - 1\\right)^{2} \\cos{\\left(2 \\pi x_{1} \\right)} + \\left(2 x_{1} - 2\\right) \\left(\\sin^{2}{\\left(x_{1} \\right)} + 1\\right) + \\left(2 x_{1} - 2\\right) \\left(\\sin{\\left(2 \\pi x_{1} \\right)} + 1\\right) + 6 \\pi \\sin{\\left(3 \\pi x_{1} \\right)} \\cos{\\left(3 \\pi x_{1} \\right)}\\\\- x_{1} + 2 \\left(x_{2} - 1\\right)^{2} \\sin{\\left(x_{2} \\right)} \\cos{\\left(x_{2} \\right)} + 2 \\pi \\left(x_{2} - 1\\right)^{2} \\cos{\\left(2 \\pi x_{2} \\right)} + \\left(2 x_{2} - 2\\right) \\left(\\sin^{2}{\\left(x_{2} \\right)} + 1\\right) + \\left(2 x_{2} - 2\\right) \\left(\\sin{\\left(2 \\pi x_{2} \\right)} + 1\\right) + 6 \\pi \\sin{\\left(3 \\pi x_{2} \\right)} \\cos{\\left(3 \\pi x_{2} \\right)}\\end{matrix}\\right]$"
          },
          "metadata": {},
          "execution_count": 141
        }
      ]
    },
    {
      "cell_type": "code",
      "source": [
        "#Hessiano de f\n",
        "Hf = gf.jacobian(x)\n",
        "Hf"
      ],
      "metadata": {
        "colab": {
          "base_uri": "https://localhost:8080/",
          "height": 82
        },
        "id": "XU6BgSMcgxZO",
        "outputId": "e4c02853-d657-4106-b1b6-1e94905a1dbb"
      },
      "execution_count": null,
      "outputs": [
        {
          "output_type": "execute_result",
          "data": {
            "text/plain": [
              "Matrix([\n",
              "[-2*(x1 - 1)**2*sin(x1)**2 - 4*pi**2*(x1 - 1)**2*sin(2*pi*x1) + 2*(x1 - 1)**2*cos(x1)**2 + 2*(2*x1 - 2)*sin(x1)*cos(x1) + 4*pi*(2*x1 - 2)*cos(2*pi*x1) + (4*x1 - 4)*sin(x1)*cos(x1) + 2*sin(x1)**2 + 2*sin(2*pi*x1) - 18*pi**2*sin(3*pi*x1)**2 + 18*pi**2*cos(3*pi*x1)**2 + 4,                                                                                                                                                                                                                                                                           -1],\n",
              "[                                                                                                                                                                                                                                                                          -1, -2*(x2 - 1)**2*sin(x2)**2 - 4*pi**2*(x2 - 1)**2*sin(2*pi*x2) + 2*(x2 - 1)**2*cos(x2)**2 + 2*(2*x2 - 2)*sin(x2)*cos(x2) + 4*pi*(2*x2 - 2)*cos(2*pi*x2) + (4*x2 - 4)*sin(x2)*cos(x2) + 2*sin(x2)**2 + 2*sin(2*pi*x2) - 18*pi**2*sin(3*pi*x2)**2 + 18*pi**2*cos(3*pi*x2)**2 + 4]])"
            ],
            "text/latex": "$\\displaystyle \\left[\\begin{matrix}- 2 \\left(x_{1} - 1\\right)^{2} \\sin^{2}{\\left(x_{1} \\right)} - 4 \\pi^{2} \\left(x_{1} - 1\\right)^{2} \\sin{\\left(2 \\pi x_{1} \\right)} + 2 \\left(x_{1} - 1\\right)^{2} \\cos^{2}{\\left(x_{1} \\right)} + 2 \\left(2 x_{1} - 2\\right) \\sin{\\left(x_{1} \\right)} \\cos{\\left(x_{1} \\right)} + 4 \\pi \\left(2 x_{1} - 2\\right) \\cos{\\left(2 \\pi x_{1} \\right)} + \\left(4 x_{1} - 4\\right) \\sin{\\left(x_{1} \\right)} \\cos{\\left(x_{1} \\right)} + 2 \\sin^{2}{\\left(x_{1} \\right)} + 2 \\sin{\\left(2 \\pi x_{1} \\right)} - 18 \\pi^{2} \\sin^{2}{\\left(3 \\pi x_{1} \\right)} + 18 \\pi^{2} \\cos^{2}{\\left(3 \\pi x_{1} \\right)} + 4 & -1\\\\-1 & - 2 \\left(x_{2} - 1\\right)^{2} \\sin^{2}{\\left(x_{2} \\right)} - 4 \\pi^{2} \\left(x_{2} - 1\\right)^{2} \\sin{\\left(2 \\pi x_{2} \\right)} + 2 \\left(x_{2} - 1\\right)^{2} \\cos^{2}{\\left(x_{2} \\right)} + 2 \\left(2 x_{2} - 2\\right) \\sin{\\left(x_{2} \\right)} \\cos{\\left(x_{2} \\right)} + 4 \\pi \\left(2 x_{2} - 2\\right) \\cos{\\left(2 \\pi x_{2} \\right)} + \\left(4 x_{2} - 4\\right) \\sin{\\left(x_{2} \\right)} \\cos{\\left(x_{2} \\right)} + 2 \\sin^{2}{\\left(x_{2} \\right)} + 2 \\sin{\\left(2 \\pi x_{2} \\right)} - 18 \\pi^{2} \\sin^{2}{\\left(3 \\pi x_{2} \\right)} + 18 \\pi^{2} \\cos^{2}{\\left(3 \\pi x_{2} \\right)} + 4\\end{matrix}\\right]$"
          },
          "metadata": {},
          "execution_count": 142
        }
      ]
    },
    {
      "cell_type": "code",
      "source": [
        "import numpy as np\n",
        "x0=[5,1] #Ultimos dos dígitos del código estudiantil\n",
        "x0=np.array(x0)\n",
        "x0"
      ],
      "metadata": {
        "colab": {
          "base_uri": "https://localhost:8080/"
        },
        "id": "4iCtamgxhHyg",
        "outputId": "201b5bd9-daab-4e0a-99fe-f4ff34772283"
      },
      "execution_count": null,
      "outputs": [
        {
          "output_type": "execute_result",
          "data": {
            "text/plain": [
              "array([5, 1])"
            ]
          },
          "metadata": {},
          "execution_count": 155
        }
      ]
    },
    {
      "cell_type": "code",
      "source": [
        "to_rep = {x[i]:x0[i] for i in range(n)}\n",
        "to_rep"
      ],
      "metadata": {
        "colab": {
          "base_uri": "https://localhost:8080/"
        },
        "id": "SDuogN_Fhd2p",
        "outputId": "63b82c00-3a46-4b65-9d26-671260896a56"
      },
      "execution_count": null,
      "outputs": [
        {
          "output_type": "execute_result",
          "data": {
            "text/plain": [
              "{x1: 5, x2: 1}"
            ]
          },
          "metadata": {},
          "execution_count": 156
        }
      ]
    },
    {
      "cell_type": "code",
      "source": [
        "f0=f.subs(to_rep)\n",
        "f0"
      ],
      "metadata": {
        "colab": {
          "base_uri": "https://localhost:8080/",
          "height": 37
        },
        "id": "27q8PnxnhiMv",
        "outputId": "dcaf1602-d912-4811-fd1e-6dcb8d0a3d39"
      },
      "execution_count": null,
      "outputs": [
        {
          "output_type": "execute_result",
          "data": {
            "text/plain": [
              "16*sin(5)**2 + 27"
            ],
            "text/latex": "$\\displaystyle 16 \\sin^{2}{\\left(5 \\right)} + 27$"
          },
          "metadata": {},
          "execution_count": 145
        }
      ]
    },
    {
      "cell_type": "code",
      "source": [
        "g0 = gf.subs(to_rep)\n",
        "g0"
      ],
      "metadata": {
        "colab": {
          "base_uri": "https://localhost:8080/",
          "height": 58
        },
        "id": "eQdfWq1oh_9p",
        "outputId": "a90bd77a-e9bd-4274-d588-4571723126e1"
      },
      "execution_count": null,
      "outputs": [
        {
          "output_type": "execute_result",
          "data": {
            "text/plain": [
              "Matrix([\n",
              "[32*sin(5)*cos(5) + 8*sin(5)**2 + 15 + 32*pi],\n",
              "[                                         -5]])"
            ],
            "text/latex": "$\\displaystyle \\left[\\begin{matrix}32 \\sin{\\left(5 \\right)} \\cos{\\left(5 \\right)} + 8 \\sin^{2}{\\left(5 \\right)} + 15 + 32 \\pi\\\\-5\\end{matrix}\\right]$"
          },
          "metadata": {},
          "execution_count": 146
        }
      ]
    },
    {
      "cell_type": "code",
      "source": [
        "dx0 = x-x0.reshape((-1,1))\n",
        "dx0"
      ],
      "metadata": {
        "colab": {
          "base_uri": "https://localhost:8080/",
          "height": 58
        },
        "id": "Y9ch93D6iRSF",
        "outputId": "e4bc74f3-4bcb-4682-b284-0b3b9f43b945"
      },
      "execution_count": null,
      "outputs": [
        {
          "output_type": "execute_result",
          "data": {
            "text/plain": [
              "Matrix([\n",
              "[x1 - 5],\n",
              "[x2 - 1]])"
            ],
            "text/latex": "$\\displaystyle \\left[\\begin{matrix}x_{1} - 5\\\\x_{2} - 1\\end{matrix}\\right]$"
          },
          "metadata": {},
          "execution_count": 147
        }
      ]
    },
    {
      "cell_type": "code",
      "source": [
        "L = f0 + dx0.dot(g0)\n",
        "L"
      ],
      "metadata": {
        "colab": {
          "base_uri": "https://localhost:8080/",
          "height": 39
        },
        "id": "tSID4c7UjASI",
        "outputId": "e5683a43-878d-4629-97fa-5cb3bfa32cec"
      },
      "execution_count": null,
      "outputs": [
        {
          "output_type": "execute_result",
          "data": {
            "text/plain": [
              "-5*x2 + (x1 - 5)*(32*sin(5)*cos(5) + 8*sin(5)**2 + 15 + 32*pi) + 16*sin(5)**2 + 32"
            ],
            "text/latex": "$\\displaystyle - 5 x_{2} + \\left(x_{1} - 5\\right) \\left(32 \\sin{\\left(5 \\right)} \\cos{\\left(5 \\right)} + 8 \\sin^{2}{\\left(5 \\right)} + 15 + 32 \\pi\\right) + 16 \\sin^{2}{\\left(5 \\right)} + 32$"
          },
          "metadata": {},
          "execution_count": 148
        }
      ]
    },
    {
      "cell_type": "markdown",
      "source": [
        "#Graficas"
      ],
      "metadata": {
        "id": "t-7723zajE62"
      }
    },
    {
      "cell_type": "code",
      "source": [
        "import matplotlib.pyplot as plt"
      ],
      "metadata": {
        "id": "Vo-SfU0rjffu"
      },
      "execution_count": null,
      "outputs": []
    },
    {
      "cell_type": "code",
      "source": [
        "m = 50;\n",
        "x1 = np.linspace(-10, 10, m)\n",
        "x2 = x1"
      ],
      "metadata": {
        "id": "x1b7tYEpjHLV"
      },
      "execution_count": null,
      "outputs": []
    },
    {
      "cell_type": "code",
      "source": [
        "Z = np.zeros((m,m))\n",
        "for i,xi in enumerate(x1):\n",
        "  for j,xj in enumerate(x2):\n",
        "    torep = {x[0]:xi, x[1]:xj}\n",
        "    fij = f.subs(torep)\n",
        "    Z[i,j] = fij\n",
        "\n",
        "X1, X2 = np.meshgrid(x1, x2);\n",
        "plt.contourf(X1, X2, Z);\n",
        "plt.xlabel('$x_1$');\n",
        "plt.ylabel('$x_2$');\n",
        "plt.colorbar()\n",
        "plt.plot(1,1, marker=\",\", color=\"w\")"
      ],
      "metadata": {
        "colab": {
          "base_uri": "https://localhost:8080/",
          "height": 302
        },
        "id": "afWt13S1jWn6",
        "outputId": "acbf680a-ba54-4617-f972-efebef1999e8"
      },
      "execution_count": null,
      "outputs": [
        {
          "output_type": "execute_result",
          "data": {
            "text/plain": [
              "[<matplotlib.lines.Line2D at 0x7f0dc0550c90>]"
            ]
          },
          "metadata": {},
          "execution_count": 162
        },
        {
          "output_type": "display_data",
          "data": {
            "text/plain": [
              "<Figure size 432x288 with 2 Axes>"
            ],
            "image/png": "[encoded data removed]"
          },
          "metadata": {
            "needs_background": "light"
          }
        }
      ]
    },
    {
      "cell_type": "markdown",
      "source": [
        "La afirmación de que la función Levy tiene un mínimo en el punto (x1* = 1, x2* = 1) es **cierta**, y se puede verificar vizualizando la gráfica. Para esto, haremos lo siguente: \\\\\n",
        "Dibujamos un punto en la posición 1,1. Este punto debe coincidir con el punto más bajo en la escala, es decir, debe caer el el azul más oscuro de nuestra escala de colores representativa.\n"
      ],
      "metadata": {
        "id": "at11oFc2ny6Y"
      }
    }
  ]
}